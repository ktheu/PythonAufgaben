{
 "cells": [
  {
   "cell_type": "markdown",
   "id": "756db0dd-de59-48a5-8ccd-462bc0e88b34",
   "metadata": {},
   "source": [
    "### Aufgaben 5"
   ]
  },
  {
   "cell_type": "code",
   "execution_count": 24,
   "id": "1099a6e8-4e00-4d58-8460-908055f24c11",
   "metadata": {},
   "outputs": [
    {
     "name": "stdout",
     "output_type": "stream",
     "text": [
      "Overwriting input.txt\n"
     ]
    }
   ],
   "source": [
    "%%writefile input.txt\n",
    "Die ist ein Text. Da haben wir die Umlaute ä ö und ü. Wir testen auch das ß.\n",
    "Satzzeichen wie ?,!; sollen nicht übernommen werden."
   ]
  },
  {
   "cell_type": "code",
   "execution_count": 27,
   "id": "4be7c790-ffe0-4589-8559-22f0d2779e4b",
   "metadata": {},
   "outputs": [
    {
     "name": "stdout",
     "output_type": "stream",
     "text": [
      "dieisteintextdahabenwirdieumlauteäöundüwirtestenauchdasßsatzzeichenwiesollennichtübernommenwerden\n"
     ]
    }
   ],
   "source": [
    "'''\n",
    "Aufgabe 5.10\n",
    "Lies den Text aus dem obigen input.txt in eine Variable data0 ein.\n",
    "Wandle alles in Kleinbuchstaben um. In die Variabel data sollen nur die Buchstaben \n",
    "(auch Umlaute und ß) aus data0 übernommen werden, keine Leerzeichen,\n",
    "Zeilenvorschübe oder Satzzeichen. Gib data aus.\n",
    "\n",
    "Erwartete Ausgabe:\n",
    "dieisteintextdahabenwirdieumlauteäöundüwirtestenauchdasßsatzzeichenwiesollennichtübernommenwerden\n",
    "'''\n",
    "f = open('input.txt',encoding='utf-8')\n",
    "data0 = f.read()\n",
    "data0 = data0.lower()\n",
    "\n",
    "gueltig = 'abcdefghijklmnopqrstuvwxyzäöüß'\n",
    "\n",
    "data = ''\n",
    "for c in data0:\n",
    "    if c in gueltig:\n",
    "        data = data + c\n",
    "print(data) \n"
   ]
  },
  {
   "cell_type": "code",
   "execution_count": null,
   "id": "1b56f9d3-e8eb-421d-865d-9109f848f34b",
   "metadata": {},
   "outputs": [],
   "source": [
    " "
   ]
  },
  {
   "cell_type": "code",
   "execution_count": null,
   "id": "2f676226-86b1-4f8a-b99b-4faf6c031ec5",
   "metadata": {},
   "outputs": [],
   "source": []
  }
 ],
 "metadata": {
  "kernelspec": {
   "display_name": "Python 3 (ipykernel)",
   "language": "python",
   "name": "python3"
  },
  "language_info": {
   "codemirror_mode": {
    "name": "ipython",
    "version": 3
   },
   "file_extension": ".py",
   "mimetype": "text/x-python",
   "name": "python",
   "nbconvert_exporter": "python",
   "pygments_lexer": "ipython3",
   "version": "3.11.2"
  }
 },
 "nbformat": 4,
 "nbformat_minor": 5
}
