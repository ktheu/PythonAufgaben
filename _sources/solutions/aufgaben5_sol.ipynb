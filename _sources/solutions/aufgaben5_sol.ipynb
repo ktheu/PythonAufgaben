{
 "cells": [
  {
   "cell_type": "markdown",
   "id": "756db0dd-de59-48a5-8ccd-462bc0e88b34",
   "metadata": {},
   "source": [
    "### Aufgaben 5"
   ]
  },
  {
   "cell_type": "code",
   "execution_count": 28,
   "id": "1099a6e8-4e00-4d58-8460-908055f24c11",
   "metadata": {},
   "outputs": [
    {
     "name": "stdout",
     "output_type": "stream",
     "text": [
      "Overwriting input.txt\n"
     ]
    }
   ],
   "source": [
    "%%writefile input.txt\n",
    "Die ist ein Text. Da haben wir die Umlaute ä ö und ü. Wir testen auch das ß.\n",
    "Satzzeichen wie ?,!; sollen nicht übernommen werden."
   ]
  },
  {
   "cell_type": "code",
   "execution_count": 29,
   "id": "4be7c790-ffe0-4589-8559-22f0d2779e4b",
   "metadata": {},
   "outputs": [
    {
     "name": "stdout",
     "output_type": "stream",
     "text": [
      "dieisteintextdahabenwirdieumlauteäöundüwirtestenauchdasßsatzzeichenwiesollennichtübernommenwerden\n"
     ]
    }
   ],
   "source": [
    "'''\n",
    "Aufgabe 5.9\n",
    "Lies den Text aus dem obigen input.txt in eine Variable data0 ein.\n",
    "Wandle alles in Kleinbuchstaben um. In die Variabel data sollen nur die Buchstaben \n",
    "(auch Umlaute und ß) aus data0 übernommen werden, keine Leerzeichen,\n",
    "Zeilenvorschübe oder Satzzeichen. Gib data aus.\n",
    "\n",
    "Erwartete Ausgabe:\n",
    "dieisteintextdahabenwirdieumlauteäöundüwirtestenauchdasßsatzzeichenwiesollennichtübernommenwerden\n",
    "'''\n",
    "f = open('input.txt',encoding='utf-8')\n",
    "data0 = f.read()\n",
    "data0 = data0.lower()\n",
    "\n",
    "gueltig = 'abcdefghijklmnopqrstuvwxyzäöüß'\n",
    "\n",
    "data = ''\n",
    "for c in data0:\n",
    "    if c in gueltig:\n",
    "        data = data + c\n",
    "print(data) \n"
   ]
  },
  {
   "cell_type": "code",
   "execution_count": 33,
   "id": "1b56f9d3-e8eb-421d-865d-9109f848f34b",
   "metadata": {},
   "outputs": [
    {
     "data": {
      "text/plain": [
       "\"\\nAufgabe 5.10\\nErstelle ein dictionary m, das jedem kleinen Buchstaben seine Stelle im Alphabet zuordnet.\\na -> 1, b -> 2, ... z -> 26. \\nErweitere das dict um folgende Einträge: ä -> 27, ö -> 28, ü -> 29, ß -> 30.\\n\\nTeste ein paar Werte:\\n>>> m['c']\\n3\\n>>> m['o']\\n15\\n>>> m['ö']\\n\\n\""
      ]
     },
     "execution_count": 33,
     "metadata": {},
     "output_type": "execute_result"
    }
   ],
   "source": [
    "'''\n",
    "Aufgabe 5.10\n",
    "Erstelle ein dictionary m, das jedem kleinen Buchstaben seine Stelle im Alphabet zuordnet.\n",
    "a -> 1, b -> 2, ... z -> 26. \n",
    "Erweitere das dict um folgende Einträge: ä -> 27, ö -> 28, ü -> 29, ß -> 30.\n",
    "\n",
    "Teste ein paar Werte:\n",
    ">>> m['c']\n",
    "3\n",
    ">>> m['o']\n",
    "15\n",
    ">>> m['ö']\n",
    "28\n",
    "'''"
   ]
  },
  {
   "cell_type": "code",
   "execution_count": 30,
   "id": "2f676226-86b1-4f8a-b99b-4faf6c031ec5",
   "metadata": {},
   "outputs": [],
   "source": [
    "m = {chr(97+i): i+1 for i in range(26)}\n",
    "m['ä'] = 27\n",
    "m['ö'] = 28\n",
    "m['ü'] = 29\n",
    "m['ß'] = 30"
   ]
  },
  {
   "cell_type": "code",
   "execution_count": 34,
   "id": "d1ec2179-dbef-4448-8513-9edb78462eb6",
   "metadata": {},
   "outputs": [
    {
     "data": {
      "text/plain": [
       "28"
      ]
     },
     "execution_count": 34,
     "metadata": {},
     "output_type": "execute_result"
    }
   ],
   "source": [
    "m['ö']"
   ]
  },
  {
   "cell_type": "code",
   "execution_count": null,
   "id": "7f7f531a-0d12-49ee-ac35-72916a5f86aa",
   "metadata": {},
   "outputs": [],
   "source": []
  }
 ],
 "metadata": {
  "kernelspec": {
   "display_name": "Python 3 (ipykernel)",
   "language": "python",
   "name": "python3"
  },
  "language_info": {
   "codemirror_mode": {
    "name": "ipython",
    "version": 3
   },
   "file_extension": ".py",
   "mimetype": "text/x-python",
   "name": "python",
   "nbconvert_exporter": "python",
   "pygments_lexer": "ipython3",
   "version": "3.11.2"
  }
 },
 "nbformat": 4,
 "nbformat_minor": 5
}
