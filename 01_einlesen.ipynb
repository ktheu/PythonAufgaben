{
 "cells": [
  {
   "cell_type": "markdown",
   "id": "9a22ca0d-4c5d-47bd-b6e9-5c479c0da19f",
   "metadata": {},
   "source": [
    "### Einlesen von Daten\n",
    "\n",
    "##### Beispiel 1\n",
    "\n",
    "Die erste Zahl gibt an, wieviele Zahlen noch folgen."
   ]
  },
  {
   "cell_type": "code",
   "execution_count": 1,
   "id": "c1b92b60-1929-4529-9586-c4caef095ddd",
   "metadata": {},
   "outputs": [
    {
     "name": "stdout",
     "output_type": "stream",
     "text": [
      "Writing input1.txt\n"
     ]
    }
   ],
   "source": [
    "%%writefile input1.txt\n",
    "3\n",
    "10\n",
    "20\n",
    "40"
   ]
  },
  {
   "cell_type": "code",
   "execution_count": 10,
   "id": "d17bff8e-ed97-42b7-bf6b-b93fa78630d1",
   "metadata": {},
   "outputs": [
    {
     "data": {
      "text/plain": [
       "[10, 20, 40]"
      ]
     },
     "execution_count": 10,
     "metadata": {},
     "output_type": "execute_result"
    }
   ],
   "source": [
    "f = open('input1.txt')\n",
    "n = int(f.readline())\n",
    "data = []\n",
    "for i in range(n):\n",
    "    data.append(int(f.readline()))\n",
    "f.close()\n",
    "data\n",
    "    "
   ]
  },
  {
   "cell_type": "markdown",
   "id": "2e2d422b-50f6-46a4-a6bc-aa67a7a6a0c9",
   "metadata": {},
   "source": [
    "##### Beispiel2\n",
    "\n",
    "Alle Zahlen stehen in einer Reihe"
   ]
  },
  {
   "cell_type": "code",
   "execution_count": 4,
   "id": "459c77d8-023c-4a87-a13b-4a0b6bde4dde",
   "metadata": {},
   "outputs": [
    {
     "name": "stdout",
     "output_type": "stream",
     "text": [
      "Writing input2.txt\n"
     ]
    }
   ],
   "source": [
    "%%writefile input2.txt\n",
    "3 10 8 4 -3 14 42 -9"
   ]
  },
  {
   "cell_type": "code",
   "execution_count": 11,
   "id": "eeb93804-b82e-43d2-bc41-20e3bfe9133f",
   "metadata": {},
   "outputs": [
    {
     "data": {
      "text/plain": [
       "[3, 10, 8, 4, -3, 14, 42, -9]"
      ]
     },
     "execution_count": 11,
     "metadata": {},
     "output_type": "execute_result"
    }
   ],
   "source": [
    "f = open('input2.txt')\n",
    "a = f.readline().split()\n",
    "data = []\n",
    "for x in a:\n",
    "    data.append(int(x))\n",
    "f.close()\n",
    "data"
   ]
  },
  {
   "cell_type": "markdown",
   "id": "67b6673c",
   "metadata": {},
   "source": []
  },
  {
   "cell_type": "markdown",
   "id": "ea2209c6",
   "metadata": {},
   "source": []
  },
  {
   "cell_type": "markdown",
   "id": "8da7a786-16b3-42c2-a4ac-c649f177e13d",
   "metadata": {},
   "source": [
    "oder kürzer mit einer list-Comprehension"
   ]
  },
  {
   "cell_type": "code",
   "execution_count": 13,
   "id": "8278feee-ad95-4649-a580-f753069be52f",
   "metadata": {},
   "outputs": [
    {
     "data": {
      "text/plain": [
       "[3, 10, 8, 4, -3, 14, 42, -9]"
      ]
     },
     "execution_count": 13,
     "metadata": {},
     "output_type": "execute_result"
    }
   ],
   "source": [
    "f = open('input2.txt')\n",
    "data = [int(x) for x in f.readline().split()]\n",
    "f.close()\n",
    "data"
   ]
  },
  {
   "cell_type": "markdown",
   "id": "9b9f0f49-4e8c-4804-8c44-29907879957a",
   "metadata": {},
   "source": [
    "##### Beispiel 3\n",
    "\n",
    "Beim zeilenweisen Einlesen von Strings können wir mit strip() den Zeilenvorschub und Leerzeichen am Anfang und Ende entfernen."
   ]
  },
  {
   "cell_type": "code",
   "execution_count": 71,
   "id": "6964e8ea-d0c7-4150-8f66-6dfa503e7df1",
   "metadata": {},
   "outputs": [
    {
     "name": "stdout",
     "output_type": "stream",
     "text": [
      "Overwriting input3.txt\n"
     ]
    }
   ],
   "source": [
    "%%writefile input3.txt\n",
    "Sonntag "
   ]
  },
  {
   "cell_type": "code",
   "execution_count": 74,
   "id": "5529441e-2676-4fdf-b5cd-e7bd2b255874",
   "metadata": {},
   "outputs": [
    {
     "data": {
      "text/plain": [
       "'Sonntag \\n'"
      ]
     },
     "execution_count": 74,
     "metadata": {},
     "output_type": "execute_result"
    }
   ],
   "source": [
    "f = open('input3.txt')\n",
    "s = f.readline()\n",
    "f.close()\n",
    "s"
   ]
  },
  {
   "cell_type": "code",
   "execution_count": 75,
   "id": "fc4c6cb6-c924-4282-8aa3-13f103d96f51",
   "metadata": {},
   "outputs": [
    {
     "data": {
      "text/plain": [
       "'Sonntag'"
      ]
     },
     "execution_count": 75,
     "metadata": {},
     "output_type": "execute_result"
    }
   ],
   "source": [
    "f = open('input3.txt')\n",
    "s = f.readline().strip()\n",
    "f.close()\n",
    "s"
   ]
  },
  {
   "cell_type": "markdown",
   "id": "823880a2-522d-4091-a9b5-c607e3df7429",
   "metadata": {},
   "source": [
    "##### Beispiel4\n",
    "\n",
    "Einen Text einlesen."
   ]
  },
  {
   "cell_type": "code",
   "execution_count": 76,
   "id": "0f80d59d-2678-4fbd-933f-18da76a03f5c",
   "metadata": {},
   "outputs": [
    {
     "name": "stdout",
     "output_type": "stream",
     "text": [
      "Overwriting input4.txt\n"
     ]
    }
   ],
   "source": [
    "%%writefile input4.txt\n",
    "Wollen wir einen Computer für eine bestimmte Aufgabe einsetzen, dann\n",
    "müssen wir uns nicht nur überlegen, wie der Verarbeitungsablauf in Form eines\n",
    "Programms beschrieben werden kann. Es geht auch darum, das, was eigentlich\n",
    "verarbeitet werden soll, darzustellen. Informationen müssen in Form von Daten\n",
    "verpackt werden. Daten können alles Mögliche repräsentieren, von Zahlen und\n",
    "Texten über Bilder und Tönen bis zu Finanztransaktionen oder Auswertungen\n",
    "von Gesteinsproben. Da jedoch Computer intern nur mit den zwei Symbolen\n",
    "0 und 1 operieren, müssen wir uns überlegen, wie Informationen damit\n",
    "beschrieben werden können. Wie sieht eine Zahl aus, die nur aus Nullen und\n",
    "Einsen besteht – oder ein Text oder ein Bild?"
   ]
  },
  {
   "cell_type": "code",
   "execution_count": 77,
   "id": "bcd7c235-c593-4c74-81fd-5d50926270b4",
   "metadata": {},
   "outputs": [
    {
     "data": {
      "text/plain": [
       "'Wollen wir einen Computer für eine bestimmte Aufgabe einsetzen, dann\\nmüssen wir uns nicht nur überlegen, wie der Verarbeitungsablauf in Form eines\\nProgramms beschrieben werden kann. Es geht auch darum, das, was eigentlich\\nverarbeitet werden soll, darzustellen. Informationen müssen in Form von Daten\\nverpackt werden. Daten können alles Mögliche repräsentieren, von Zahlen und\\nTexten über Bilder und Tönen bis zu Finanztransaktionen oder Auswertungen\\nvon Gesteinsproben. Da jedoch Computer intern nur mit den zwei Symbolen\\n0 und 1 operieren, müssen wir uns überlegen, wie Informationen damit\\nbeschrieben werden können. Wie sieht eine Zahl aus, die nur aus Nullen und\\nEinsen besteht – oder ein Text oder ein Bild?\\n'"
      ]
     },
     "execution_count": 77,
     "metadata": {},
     "output_type": "execute_result"
    }
   ],
   "source": [
    "f = open('input4.txt',encoding='utf-8')\n",
    "data = f.read()\n",
    "f.close()\n",
    "data"
   ]
  },
  {
   "cell_type": "markdown",
   "id": "7eb8e947-f4bc-4ded-9954-4646b6c14a22",
   "metadata": {},
   "source": [
    "Nachbereitung des Texts\n"
   ]
  },
  {
   "cell_type": "code",
   "execution_count": 48,
   "id": "7ee74ec6-f679-46e7-9e37-af075bf66017",
   "metadata": {},
   "outputs": [
    {
     "data": {
      "text/plain": [
       "'wollen wir einen computer für eine bestimmte aufgabe einsetzen, dann\\nmüssen wir uns nicht nur überlegen, wie der verarbeitungsablauf in form eines\\nprogramms beschrieben werden kann. es geht auch darum, das, was eigentlich\\nverarbeitet werden soll, darzustellen. informationen müssen in form von daten\\nverpackt werden. daten können alles mögliche repräsentieren, von zahlen und\\ntexten über bilder und tönen bis zu finanztransaktionen oder auswertungen\\nvon gesteinsproben. da jedoch computer intern nur mit den zwei symbolen\\n0 und 1 operieren, müssen wir uns überlegen, wie informationen damit\\nbeschrieben werden können. wie sieht eine zahl aus, die nur aus nullen und\\neinsen besteht – oder ein text oder ein bild?\\n'"
      ]
     },
     "execution_count": 48,
     "metadata": {},
     "output_type": "execute_result"
    }
   ],
   "source": [
    "data = data.lower()              # alles klein schreiben\n",
    "data"
   ]
  },
  {
   "cell_type": "code",
   "execution_count": 50,
   "id": "64e7b82d-ddde-4388-a203-ec7b78b53b64",
   "metadata": {},
   "outputs": [
    {
     "data": {
      "text/plain": [
       "'wollen wir einen computer für eine bestimmte aufgabe einsetzen, dann müssen wir uns nicht nur überlegen, wie der verarbeitungsablauf in form eines programms beschrieben werden kann. es geht auch darum, das, was eigentlich verarbeitet werden soll, darzustellen. informationen müssen in form von daten verpackt werden. daten können alles mögliche repräsentieren, von zahlen und texten über bilder und tönen bis zu finanztransaktionen oder auswertungen von gesteinsproben. da jedoch computer intern nur mit den zwei symbolen 0 und 1 operieren, müssen wir uns überlegen, wie informationen damit beschrieben werden können. wie sieht eine zahl aus, die nur aus nullen und einsen besteht – oder ein text oder ein bild? '"
      ]
     },
     "execution_count": 50,
     "metadata": {},
     "output_type": "execute_result"
    }
   ],
   "source": [
    "data = data.replace('\\n',' ')    # den Zeilenvorschub durch ein Leerzeichen ersetzen\n",
    "data"
   ]
  },
  {
   "cell_type": "code",
   "execution_count": 51,
   "id": "6ca5cf96-a66e-477f-9163-fb3e0465a8f2",
   "metadata": {},
   "outputs": [
    {
     "data": {
      "text/plain": [
       "'wlln wr nn cmptr fr n bstmmt fgb nstzn dnn mssn wr ns ncht nr brlgn w dr vrrbtngsblf n frm ns prgrmms bschrbn wrdn knn s ght ch drm ds ws gntlch vrrbtt wrdn sll drzstlln nfrmtnn mssn n frm vn dtn vrpckt wrdn dtn knnn lls mglch rprsntrn vn zhln nd txtn br bldr nd tnn bs z fnnztrnsktnn dr swrtngn vn gstnsprbn d jdch cmptr ntrn nr mt dn zw symbln  nd  prrn mssn wr ns brlgn w nfrmtnn dmt bschrbn wrdn knnn w sht n zhl s d nr s nlln nd nsn bstht  dr n txt dr n bld '"
      ]
     },
     "execution_count": 51,
     "metadata": {},
     "output_type": "execute_result"
    }
   ],
   "source": [
    "s = 'bcdfghjklmnpqrstvwxyz '     # nur diese Zeichen wollen wir übernehmen   \n",
    "data1 = ''\n",
    "for c in data:\n",
    "    if c in s:\n",
    "        data1 = data1 + c\n",
    "data1"
   ]
  },
  {
   "cell_type": "markdown",
   "id": "5b896d9e-7e4b-4613-bd9a-55af7eaa99c8",
   "metadata": {},
   "source": [
    "#### Aufgaben"
   ]
  },
  {
   "cell_type": "code",
   "execution_count": 78,
   "id": "0dafa423-1f99-4463-9511-76611e9be3f2",
   "metadata": {},
   "outputs": [
    {
     "name": "stdout",
     "output_type": "stream",
     "text": [
      "Overwriting input5.txt\n"
     ]
    }
   ],
   "source": [
    "%%writefile input5.txt\n",
    "42\n",
    "-12\n",
    "10"
   ]
  },
  {
   "cell_type": "code",
   "execution_count": 80,
   "id": "9ca53ea5-ebbf-4f66-b7ee-b4b2cfa58279",
   "metadata": {},
   "outputs": [
    {
     "name": "stdout",
     "output_type": "stream",
     "text": [
      "42 -12 10 40\n"
     ]
    }
   ],
   "source": [
    "'''\n",
    "Aufgabe 1\n",
    "Lies die Zahlen aus input4.txt in die Variablen a, b, c ein und gib diese Variablen und ihre Summe aus.\n",
    "\n",
    "Erwartete Ausgabe:\n",
    "42 -12 10 40\n",
    "'''\n",
    "f = open('input5.txt')\n",
    "a = int(f.readline())\n",
    "b = int(f.readline())\n",
    "c = int(f.readline())\n",
    "print(a,b,c,a+b+c)\n"
   ]
  },
  {
   "cell_type": "markdown",
   "id": "1085efc9-fd0d-4879-bac1-821bfdd15c6e",
   "metadata": {},
   "source": [
    "----"
   ]
  },
  {
   "cell_type": "code",
   "execution_count": 85,
   "id": "475bdd26-fdc6-43a9-8611-0fa85dc077b7",
   "metadata": {},
   "outputs": [
    {
     "name": "stdout",
     "output_type": "stream",
     "text": [
      "Overwriting input6.txt\n"
     ]
    }
   ],
   "source": [
    "%%writefile input6.txt\n",
    "3\n",
    "Hallo "
   ]
  },
  {
   "cell_type": "code",
   "execution_count": 86,
   "id": "352e8949-1c9b-4714-b398-0e7e2326cf47",
   "metadata": {},
   "outputs": [
    {
     "name": "stdout",
     "output_type": "stream",
     "text": [
      "Hallo\n",
      "Hallo\n",
      "Hallo\n"
     ]
    }
   ],
   "source": [
    "'''\n",
    "Aufgabe 2\n",
    "Lies die Zahl n und den String s von input6.txt ein und gib s n-mal aus.\n",
    "\n",
    "Erwartete Ausgabe:\n",
    "Hallo\n",
    "Hallo\n",
    "Hallo\n",
    "'''\n",
    "f = open('input6.txt')\n",
    "n = int(f.readline())\n",
    "s = f.readline().strip()\n",
    "f.close()\n",
    "for i in range(n):\n",
    "    print(s)\n",
    " "
   ]
  },
  {
   "cell_type": "markdown",
   "id": "8083685c-378e-4403-94b4-b6938d9070de",
   "metadata": {},
   "source": [
    "----"
   ]
  },
  {
   "cell_type": "code",
   "execution_count": 87,
   "id": "2f6af36c-227d-4015-a22b-c5f2e666261c",
   "metadata": {},
   "outputs": [
    {
     "name": "stdout",
     "output_type": "stream",
     "text": [
      "Writing input7.txt\n"
     ]
    }
   ],
   "source": [
    "%%writefile input7.txt\n",
    "In der Innenwelt des Computers werden Nullen und Einsen verschoben, verrechnet\n",
    "und gespeichert. Dass dies keinerlei Einschränkung bedeutet, wissen\n",
    "wir bereits: Töne, Bilder und beliebige andere Informationen lassen sich durch\n",
    "0–1-Muster codieren."
   ]
  },
  {
   "cell_type": "code",
   "execution_count": 95,
   "id": "106566c5-85da-441e-9309-f2e669bb0f8e",
   "metadata": {},
   "outputs": [
    {
     "name": "stdout",
     "output_type": "stream",
     "text": [
      "In der Innenwelt des Computers werden Nullen und Einsen verschoben, verrechnet und gespeichert. Dass dies keinerlei Einschraenkung bedeutet, wissen wir bereits: Toene, Bilder und beliebige andere Informationen lassen sich durch 0–1-Muster codieren. \n"
     ]
    }
   ],
   "source": [
    "'''\n",
    "Aufgabe 3\n",
    "Lies den Text aus input7.txt in eine Variable data ein.\n",
    "Ersetze jeden Zeilenvorschub durch ein Leerzeichen und ersetze alle Umlaute: ä zu ae, ö zu oe, ü zu ue.\n",
    "'''\n",
    "f = open('input7.txt',encoding='utf-8')\n",
    "data = f.read()\n",
    "f.close()\n",
    "print(data.replace('\\n',' ').replace('ä','ae').replace('ö','oe').replace('ü','ue'))"
   ]
  },
  {
   "cell_type": "code",
   "execution_count": 97,
   "id": "c0783bed-e4d0-4082-bd8c-d9dbee00f00f",
   "metadata": {},
   "outputs": [
    {
     "name": "stdout",
     "output_type": "stream",
     "text": [
      "IeIeeeoueeeueuEieeoeeeeueeieaieeieeiEiueeueieieeieieueieieaeeIoaioeaeiuueoiee\n"
     ]
    }
   ],
   "source": [
    "'''\n",
    "Aufgabe 4\n",
    "Lies den Text aus input7.txt in eine Variable data ein.\n",
    "Übernimm nur die Vokale aus dem Text gib den String, der nur aus diesen Vokalen besteht aus.\n",
    "\n",
    "Erwartete Ausgabe:\n",
    "IeIeeeoueeeueuEieeoeeeeueeieaieeieeiEiueeueieieeieieueieieaeeIoaioeaeiuueoiee\n",
    "'''\n",
    "f = open('input7.txt',encoding='utf-8')\n",
    "data = f.read()\n",
    "f.close()\n",
    "data.replace\n",
    "\n",
    "s = 'aeiouAEIOU'\n",
    "data1 = ''\n",
    "for c in data:\n",
    "    if c in s:\n",
    "        data1 = data1 + c\n",
    "print(data1)"
   ]
  }
 ],
 "metadata": {
  "kernelspec": {
   "display_name": "Python 3 (ipykernel)",
   "language": "python",
   "name": "python3"
  },
  "language_info": {
   "codemirror_mode": {
    "name": "ipython",
    "version": 3
   },
   "file_extension": ".py",
   "mimetype": "text/x-python",
   "name": "python",
   "nbconvert_exporter": "python",
   "pygments_lexer": "ipython3",
   "version": "3.11.2"
  }
 },
 "nbformat": 4,
 "nbformat_minor": 5
}
