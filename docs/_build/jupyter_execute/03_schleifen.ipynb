{
 "cells": [
  {
   "cell_type": "markdown",
   "id": "612576e4-3b49-4932-ac2a-338d96bd9a32",
   "metadata": {},
   "source": [
    "### Die for-Schleife mit range()"
   ]
  },
  {
   "cell_type": "code",
   "execution_count": 1,
   "id": "a7020063-a091-49e4-8199-ee2b5f15cbc9",
   "metadata": {},
   "outputs": [
    {
     "data": {
      "text/plain": [
       "'\\nAufgabe 1\\nErzeuge mit einer for-Schleife die folgende Ausgabe:\\n0 1 2 3 4\\n'"
      ]
     },
     "execution_count": 1,
     "metadata": {},
     "output_type": "execute_result"
    }
   ],
   "source": [
    "'''\n",
    "Aufgabe 1\n",
    "Erzeuge mit einer for-Schleife die folgende Ausgabe:\n",
    "0 1 2 3 4\n",
    "'''\n",
    "# your code\n",
    "    "
   ]
  },
  {
   "cell_type": "code",
   "execution_count": 2,
   "id": "2970bd13-7662-4861-8e1f-570210dc2c7e",
   "metadata": {},
   "outputs": [
    {
     "data": {
      "text/plain": [
       "'\\nAufgabe 2\\nErzeuge mit einer for-Schleife die folgende Ausgabe:\\n2 3 4 5 6 7 8 9 10 \\n'"
      ]
     },
     "execution_count": 2,
     "metadata": {},
     "output_type": "execute_result"
    }
   ],
   "source": [
    "'''\n",
    "Aufgabe 2\n",
    "Erzeuge mit einer for-Schleife die folgende Ausgabe:\n",
    "2 3 4 5 6 7 8 9 10 \n",
    "'''\n",
    "# your code"
   ]
  },
  {
   "cell_type": "code",
   "execution_count": 3,
   "id": "cc86c0ac-ab11-4088-8ad3-ef25bdefc615",
   "metadata": {},
   "outputs": [
    {
     "data": {
      "text/plain": [
       "'\\nAufgabe 3\\nErzeuge mit einer for-Schleife die folgende Ausgabe:\\n6 8 10 12 14 16 18 20 \\n'"
      ]
     },
     "execution_count": 3,
     "metadata": {},
     "output_type": "execute_result"
    }
   ],
   "source": [
    "'''\n",
    "Aufgabe 3\n",
    "Erzeuge mit einer for-Schleife die folgende Ausgabe:\n",
    "6 8 10 12 14 16 18 20 \n",
    "'''\n",
    "# your code"
   ]
  },
  {
   "cell_type": "code",
   "execution_count": 4,
   "id": "1f189632-dd15-4cc8-9935-bbcb1182fd00",
   "metadata": {},
   "outputs": [
    {
     "data": {
      "text/plain": [
       "'\\nAufgabe 4\\nErzeuge mit einer for-Schleife die folgende Ausgabe:\\n10 9 8 7 6 5 4 3 2 1\\n'"
      ]
     },
     "execution_count": 4,
     "metadata": {},
     "output_type": "execute_result"
    }
   ],
   "source": [
    "'''\n",
    "Aufgabe 4\n",
    "Erzeuge mit einer for-Schleife die folgende Ausgabe:\n",
    "10 9 8 7 6 5 4 3 2 1\n",
    "'''\n",
    "# your code"
   ]
  },
  {
   "cell_type": "code",
   "execution_count": 5,
   "id": "5457636e-b220-4afe-a555-42e5231255aa",
   "metadata": {},
   "outputs": [
    {
     "data": {
      "text/plain": [
       "'\\nAufgabe 5\\nErzeuge mit einer for-Schleife die folgende Ausgabe:\\n-30 -25 -20 -15 -10 -5 0 5 10 15 20 25 30 \\n'"
      ]
     },
     "execution_count": 5,
     "metadata": {},
     "output_type": "execute_result"
    }
   ],
   "source": [
    "'''\n",
    "Aufgabe 5\n",
    "Erzeuge mit einer for-Schleife die folgende Ausgabe:\n",
    "-30 -25 -20 -15 -10 -5 0 5 10 15 20 25 30 \n",
    "'''\n",
    "# your code"
   ]
  },
  {
   "cell_type": "code",
   "execution_count": 6,
   "id": "d9a184da-7f0f-421f-95d1-b12c975fc6c9",
   "metadata": {},
   "outputs": [
    {
     "data": {
      "text/plain": [
       "'\\nAufgabe 6\\nLies zwei ganze Zahlen a, b ein (a < b).\\nGib dann alle Zahlen zwischen a und b aus\\nWenn b kleiner als a ist, werden die Zahlen abwärts von a bis b ausgegeben. Beispieldialoge:\\n\\nBitte zwei ganze Zahlen eingeben: 3 7\\n3 4 5 6 7 \\n\\nBitte zwei ganze Zahlen eingeben: 7 7\\n7\\n\\nBitte zwei ganze Zahlen eingeben: 10 4\\n10 9 8 7 6 5 4 \\n'"
      ]
     },
     "execution_count": 6,
     "metadata": {},
     "output_type": "execute_result"
    }
   ],
   "source": [
    "'''\n",
    "Aufgabe 6\n",
    "Lies zwei ganze Zahlen a, b ein (a < b).\n",
    "Gib dann alle Zahlen zwischen a und b aus\n",
    "Wenn b kleiner als a ist, werden die Zahlen abwärts von a bis b ausgegeben. Beispieldialoge:\n",
    "\n",
    "Bitte zwei ganze Zahlen eingeben: 3 7\n",
    "3 4 5 6 7 \n",
    "\n",
    "Bitte zwei ganze Zahlen eingeben: 7 7\n",
    "7\n",
    "\n",
    "Bitte zwei ganze Zahlen eingeben: 10 4\n",
    "10 9 8 7 6 5 4 \n",
    "'''\n",
    "# your code\n"
   ]
  },
  {
   "cell_type": "markdown",
   "id": "34962f95-6240-4f57-b5ef-2e754bf7af8f",
   "metadata": {},
   "source": [
    "#### Die while-Schleife\n"
   ]
  },
  {
   "cell_type": "code",
   "execution_count": 7,
   "id": "df521f38-07f8-441d-9c2b-76383f146322",
   "metadata": {},
   "outputs": [
    {
     "data": {
      "text/plain": [
       "' \\nAufgabe 7\\nSetze x auf 47\\nSolange x kleiner als 200:\\n    gib x aus\\n    erhöhe x um 13\\n\\nErwartete Ausgabe:\\n47 60 73 86 99 112 125 138 151 164 177 190 \\n'"
      ]
     },
     "execution_count": 7,
     "metadata": {},
     "output_type": "execute_result"
    }
   ],
   "source": [
    "''' \n",
    "Aufgabe 7\n",
    "Setze x auf 47\n",
    "Solange x kleiner als 200:\n",
    "    gib x aus\n",
    "    erhöhe x um 13\n",
    "\n",
    "Erwartete Ausgabe:\n",
    "47 60 73 86 99 112 125 138 151 164 177 190 \n",
    "''' \n",
    "# your code"
   ]
  },
  {
   "cell_type": "code",
   "execution_count": 8,
   "id": "8f322454-11cf-4cbe-85de-7c2358cac158",
   "metadata": {},
   "outputs": [
    {
     "data": {
      "text/plain": [
       "'\\nAufgabe 8\\nSetze i auf 100 und j auf 200\\nSetze zaehl auf 0\\nSolange i kleiner als j:\\n    Erhöhe i um 7\\n    Erniedrige j um 9\\n    Erhöhe zaehl um 1\\nGib zaehl aus\\n\\nErwartete Ausgabe:\\n7\\n'"
      ]
     },
     "execution_count": 8,
     "metadata": {},
     "output_type": "execute_result"
    }
   ],
   "source": [
    "'''\n",
    "Aufgabe 8\n",
    "Setze i auf 100 und j auf 200\n",
    "Setze zaehl auf 0\n",
    "Solange i kleiner als j:\n",
    "    Erhöhe i um 7\n",
    "    Erniedrige j um 9\n",
    "    Erhöhe zaehl um 1\n",
    "Gib zaehl aus\n",
    "\n",
    "Erwartete Ausgabe:\n",
    "7\n",
    "'''\n",
    "# your code"
   ]
  }
 ],
 "metadata": {
  "kernelspec": {
   "display_name": "Python 3 (ipykernel)",
   "language": "python",
   "name": "python3"
  },
  "language_info": {
   "codemirror_mode": {
    "name": "ipython",
    "version": 3
   },
   "file_extension": ".py",
   "mimetype": "text/x-python",
   "name": "python",
   "nbconvert_exporter": "python",
   "pygments_lexer": "ipython3",
   "version": "3.11.2"
  }
 },
 "nbformat": 4,
 "nbformat_minor": 5
}