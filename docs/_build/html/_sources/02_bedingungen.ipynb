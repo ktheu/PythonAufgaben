{
 "cells": [
  {
   "cell_type": "markdown",
   "id": "b8106e50-ba1a-4f60-8bf5-d0b06b05deb0",
   "metadata": {},
   "source": [
    "### Bedingte Anweisungen"
   ]
  },
  {
   "cell_type": "code",
   "execution_count": null,
   "id": "6199cd8d-2b3e-43ad-9f3e-1e8d270c3bab",
   "metadata": {},
   "outputs": [],
   "source": [
    "'''\n",
    "Aufgabe 1:\n",
    "Lies eine Zahl x ein\n",
    "Falls x größer als 3:\n",
    "    gib 'A' aus\n",
    "gib 'Ende' aus\n",
    "\n",
    "Beispieldialoge:\n",
    "\n",
    "Bitte eine Zahl eingeben: 5\n",
    "A\n",
    "Ende\n",
    "\n",
    "Bitte eine Zahl eingeben: 2\n",
    "Ende    \n",
    "'''\n",
    "# your code"
   ]
  },
  {
   "cell_type": "code",
   "execution_count": null,
   "id": "14dc5150-4aa5-4f82-9701-6964402eaabe",
   "metadata": {},
   "outputs": [],
   "source": [
    "'''\n",
    "Aufgabe 2:\n",
    "Lies die Zahl x ein\n",
    "Falls x > 100:\n",
    "    Gib aus 'große Zahl'\n",
    "sonst:\n",
    "    Gib aus 'kleine Zahl'\n",
    "\n",
    "Beispieldialoge:\n",
    "\n",
    "Bitte Zahl eingeben: 56\n",
    "kleine Zahl\n",
    "\n",
    "Bitte Zahl eingeben: 120\n",
    "große Zahl\n",
    "'''\n",
    "# your code             \n",
    "              "
   ]
  },
  {
   "cell_type": "code",
   "execution_count": null,
   "id": "35f453a3-50f2-4ac6-856f-8de7a9fe4274",
   "metadata": {},
   "outputs": [],
   "source": [
    "'''\n",
    "Aufgabe 3:\n",
    "Lies eine Zahl x ein\n",
    "Falls x größer als 5:\n",
    "    gib 'A' aus\n",
    "sonst, falls x größer als 3 ist:\n",
    "    gib 'B' aus\n",
    "sonst:\n",
    "    gib 'C' aus\n",
    "\n",
    "Beispieldialoge:\n",
    "\n",
    "Bitte eine Zahl eingeben: 7\n",
    "A \n",
    "\n",
    "Bitte eine Zahl eingeben: 4\n",
    "B   \n",
    "\n",
    "Bitte eine Zahl eingeben: 3\n",
    "C\n",
    "'''\n",
    "# your code"
   ]
  },
  {
   "cell_type": "code",
   "execution_count": null,
   "id": "fdb0a64c-fe5a-43c9-b41f-2a674e81a2b5",
   "metadata": {},
   "outputs": [],
   "source": [
    "''' \n",
    "Aufgabe 4:\n",
    "Lies die Zahl winkel ein\n",
    "Falls winkel < 90: Gib aus 'spitzer Winkel'\n",
    "Falls winkel = 90: Gib aus 'rechter Winkel'\n",
    "Falls winkel > 90: Gib aus 'stumpfer Winkel'\n",
    "\n",
    "Beispieldialoge:\n",
    "\n",
    "Bitte einen Winkel eingeben: 45\n",
    "spitzer Winkel\n",
    "\n",
    "Bitte einen Winkel eingeben: 90\n",
    "rechter Winkel\n",
    "\n",
    "Bitte einen Winkel eingeben: 120\n",
    "stumpfer Winkel\n",
    "\n",
    "''' \n",
    "# your code  "
   ]
  },
  {
   "cell_type": "code",
   "execution_count": null,
   "id": "adbd917b-7fdb-413d-93f3-bbc220bb3484",
   "metadata": {},
   "outputs": [],
   "source": [
    "''' \n",
    "Aufgabe 5:\n",
    "Lies eine ganze Zahl ein und gib aus, ob sie gerade oder ungerade ist\n",
    "\n",
    "Beispieldialoge:\n",
    "\n",
    "Bitte eine ganze Zahl eingeben: 3\n",
    "ungerade\n",
    "\n",
    "Bitte eine ganze Zahl eingeben: 8\n",
    "gerade\n",
    "''' \n",
    "# your code  "
   ]
  }
 ],
 "metadata": {
  "kernelspec": {
   "display_name": "Python 3 (ipykernel)",
   "language": "python",
   "name": "python3"
  },
  "language_info": {
   "codemirror_mode": {
    "name": "ipython",
    "version": 3
   },
   "file_extension": ".py",
   "mimetype": "text/x-python",
   "name": "python",
   "nbconvert_exporter": "python",
   "pygments_lexer": "ipython3",
   "version": "3.11.2"
  }
 },
 "nbformat": 4,
 "nbformat_minor": 5
}
